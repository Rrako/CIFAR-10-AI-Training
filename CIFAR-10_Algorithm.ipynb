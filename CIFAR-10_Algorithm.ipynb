{
 "cells": [
  {
   "cell_type": "markdown",
   "id": "465d0361",
   "metadata": {},
   "source": [
    "\n",
    "# 1. Preparation"
   ]
  },
  {
   "cell_type": "markdown",
   "id": "429e8d2a",
   "metadata": {},
   "source": [
    "## Importing Libraries"
   ]
  },
  {
   "cell_type": "code",
   "execution_count": 15,
   "id": "fb24339f",
   "metadata": {
    "scrolled": true
   },
   "outputs": [],
   "source": [
    "#import numpy as np\n",
    "import numpy as np\n",
    "#importing tensorflow for CIFAR-10 dataset and CNN modelling\n",
    "import tensorflow\n",
    "from tensorflow.keras import datasets, layers, models, callbacks\n",
    "#pandas used to create dataframe tables\n",
    "import pandas as pd\n",
    "#matplotlib for visualising images\n",
    "import matplotlib.pyplot as plt"
   ]
  },
  {
   "cell_type": "markdown",
   "id": "cd059be1",
   "metadata": {},
   "source": [
    "## Loading training dataset"
   ]
  },
  {
   "cell_type": "code",
   "execution_count": 3,
   "id": "0ac35bcd",
   "metadata": {},
   "outputs": [],
   "source": [
    "# dataset loader code from source [1]\n",
    "(X_train, y_train), (X_test,y_test) = datasets.cifar10.load_data()\n",
    "### end of source 1\n",
    "# source [1] https://github.com/codebasics/deep-learning-keras-tf-tutorial/blob/master/16_cnn_cifar10_small_image_classification/cnn_cifar10_dataset.ipynb"
   ]
  },
  {
   "cell_type": "code",
   "execution_count": 4,
   "id": "524447f3",
   "metadata": {},
   "outputs": [
    {
     "name": "stdout",
     "output_type": "stream",
     "text": [
      "(50000, 32, 32, 3)\n",
      "(10000, 32, 32, 3)\n"
     ]
    }
   ],
   "source": [
    "#Here we see that the training data is 50,000 images of size 32x32x3 and test data is 10000\n",
    "print(X_train.shape)\n",
    "print(X_test.shape)"
   ]
  },
  {
   "cell_type": "markdown",
   "id": "6f7ee0c1",
   "metadata": {},
   "source": [
    "### Reformatting results array"
   ]
  },
  {
   "cell_type": "code",
   "execution_count": 5,
   "id": "ce861fae",
   "metadata": {
    "scrolled": false
   },
   "outputs": [
    {
     "data": {
      "text/plain": [
       "array([[6],\n",
       "       [9]], dtype=uint8)"
      ]
     },
     "execution_count": 5,
     "metadata": {},
     "output_type": "execute_result"
    }
   ],
   "source": [
    "#results are in 2d array\n",
    "y_train[0:2]"
   ]
  },
  {
   "cell_type": "code",
   "execution_count": 6,
   "id": "769ac879",
   "metadata": {},
   "outputs": [
    {
     "data": {
      "text/plain": [
       "array([6, 9], dtype=uint8)"
      ]
     },
     "execution_count": 6,
     "metadata": {},
     "output_type": "execute_result"
    }
   ],
   "source": [
    "#reformatting results to 1d array\n",
    "y_train = y_train.reshape(-1,)\n",
    "y_test = y_test.reshape(-1,)\n",
    "y_train[0:2]"
   ]
  },
  {
   "cell_type": "code",
   "execution_count": 7,
   "id": "a0b8a3c1",
   "metadata": {},
   "outputs": [
    {
     "data": {
      "text/plain": [
       "['frog', 'truck']"
      ]
     },
     "execution_count": 7,
     "metadata": {},
     "output_type": "execute_result"
    }
   ],
   "source": [
    "#defining labels and matching them to resluts numbers\n",
    "classes = [\"airplane\",\"automobile\",\"bird\",\"cat\",\"deer\",\"dog\",\"frog\",\"horse\",\"ship\",\"truck\"]\n",
    "#testing results\n",
    "[classes[y_train[0]],classes[y_train[1]]]"
   ]
  },
  {
   "cell_type": "markdown",
   "id": "7ed2102b",
   "metadata": {},
   "source": [
    "### Normalising input data"
   ]
  },
  {
   "cell_type": "code",
   "execution_count": 8,
   "id": "278cdd88",
   "metadata": {},
   "outputs": [],
   "source": [
    "#Normalising training data from ranging from 0 to 255, to ranging from 0 to 1\n",
    "X_train = X_train / 255\n",
    "X_test = X_test / 255"
   ]
  },
  {
   "cell_type": "markdown",
   "id": "ca5bd233",
   "metadata": {},
   "source": [
    "# 2. Artificial Network Training (Attempt One)"
   ]
  },
  {
   "cell_type": "code",
   "execution_count": 29,
   "id": "10f772a7",
   "metadata": {
    "scrolled": false
   },
   "outputs": [
    {
     "name": "stdout",
     "output_type": "stream",
     "text": [
      "Epoch 1/5\n",
      "50000/50000 [==============================] - 55s 1ms/sample - loss: 1.8137 - acc: 0.3518\n",
      "Epoch 2/5\n",
      "50000/50000 [==============================] - 54s 1ms/sample - loss: 1.6251 - acc: 0.4264\n",
      "Epoch 3/5\n",
      "50000/50000 [==============================] - 55s 1ms/sample - loss: 1.5432 - acc: 0.4564\n",
      "Epoch 4/5\n",
      "50000/50000 [==============================] - 54s 1ms/sample - loss: 1.4853 - acc: 0.4772\n",
      "Epoch 5/5\n",
      "50000/50000 [==============================] - 54s 1ms/sample - loss: 1.4358 - acc: 0.4956\n"
     ]
    },
    {
     "data": {
      "text/plain": [
       "<tensorflow.python.keras.callbacks.History at 0x2171cdcfe48>"
      ]
     },
     "execution_count": 29,
     "metadata": {},
     "output_type": "execute_result"
    }
   ],
   "source": [
    "# Artificial Neural Network training template code from source [1]\n",
    "ann1 = models.Sequential([\n",
    "        layers.Flatten(input_shape=(32,32,3)),\n",
    "        layers.Dense(3000, activation='relu'),\n",
    "        layers.Dense(1000, activation='relu'),\n",
    "        layers.Dense(10, activation='softmax')    \n",
    "    ])\n",
    "\n",
    "ann1.compile(optimizer='SGD',\n",
    "              loss='sparse_categorical_crossentropy',\n",
    "              metrics=['accuracy'])\n",
    "\n",
    "ann1.fit(X_train, y_train, epochs=5)\n",
    "### end of source 1"
   ]
  },
  {
   "cell_type": "markdown",
   "id": "bb665cef",
   "metadata": {},
   "source": [
    "## Evaluate"
   ]
  },
  {
   "cell_type": "code",
   "execution_count": 31,
   "id": "53ec282d",
   "metadata": {
    "scrolled": true
   },
   "outputs": [
    {
     "name": "stdout",
     "output_type": "stream",
     "text": [
      "10000/10000 [==============================] - 3s 261us/sample - loss: 1.4627 - acc: 0.4737\n"
     ]
    },
    {
     "data": {
      "text/plain": [
       "[1.4627347240447999, 0.4737]"
      ]
     },
     "execution_count": 31,
     "metadata": {},
     "output_type": "execute_result"
    }
   ],
   "source": [
    "ann1.evaluate(X_test, y_test)"
   ]
  },
  {
   "cell_type": "markdown",
   "id": "9d63b2e7",
   "metadata": {},
   "source": [
    "**After evaluating the network on training data you get a loss of ~1.46 and an accuracy of ~47%, this is very bad! (273s)**"
   ]
  },
  {
   "cell_type": "markdown",
   "id": "c5b18917",
   "metadata": {},
   "source": [
    "# 3. Artificial Network Training (Attempt Two)"
   ]
  },
  {
   "cell_type": "code",
   "execution_count": 32,
   "id": "fcef352f",
   "metadata": {
    "scrolled": true
   },
   "outputs": [
    {
     "name": "stdout",
     "output_type": "stream",
     "text": [
      "WARNING:tensorflow:From C:\\Users\\rowin\\anaconda3\\envs\\AIenv\\lib\\site-packages\\tensorflow\\python\\ops\\math_grad.py:1250: add_dispatch_support.<locals>.wrapper (from tensorflow.python.ops.array_ops) is deprecated and will be removed in a future version.\n",
      "Instructions for updating:\n",
      "Use tf.where in 2.0, which has the same broadcast rule as np.where\n",
      "Epoch 1/10\n",
      "50000/50000 [==============================] - 33s 661us/sample - loss: 1.8727 - acc: 0.3292\n",
      "Epoch 2/10\n",
      "50000/50000 [==============================] - 33s 663us/sample - loss: 1.6727 - acc: 0.4079\n",
      "Epoch 3/10\n",
      "50000/50000 [==============================] - 33s 651us/sample - loss: 1.5832 - acc: 0.4417\n",
      "Epoch 4/10\n",
      "50000/50000 [==============================] - 33s 670us/sample - loss: 1.5236 - acc: 0.4603\n",
      "Epoch 5/10\n",
      "50000/50000 [==============================] - 33s 656us/sample - loss: 1.4744 - acc: 0.4776\n",
      "Epoch 6/10\n",
      "50000/50000 [==============================] - 33s 652us/sample - loss: 1.4301 - acc: 0.4963 - loss: 1.430 - ETA: 0s - loss: 1.4299 - acc: \n",
      "Epoch 7/10\n",
      "50000/50000 [==============================] - 33s 665us/sample - loss: 1.3950 - acc: 0.5070\n",
      "Epoch 8/10\n",
      "50000/50000 [==============================] - 33s 652us/sample - loss: 1.3604 - acc: 0.5208\n",
      "Epoch 9/10\n",
      "50000/50000 [==============================] - 33s 652us/sample - loss: 1.3290 - acc: 0.5303\n",
      "Epoch 10/10\n",
      "50000/50000 [==============================] - 32s 649us/sample - loss: 1.3017 - acc: 0.5424\n"
     ]
    },
    {
     "data": {
      "text/plain": [
       "<tensorflow.python.keras.callbacks.History at 0x217041e6208>"
      ]
     },
     "execution_count": 32,
     "metadata": {},
     "output_type": "execute_result"
    }
   ],
   "source": [
    "# Artificial Neural Network training template code from source [1]\n",
    "ann2 = models.Sequential([\n",
    "        layers.Flatten(input_shape=(32,32,3)),\n",
    "        layers.Dense(1500, activation='relu'),\n",
    "        layers.Dense(800, activation='relu'),\n",
    "        layers.Dense(10, activation='sigmoid')    \n",
    "    ])\n",
    "\n",
    "ann2.compile(optimizer='SGD',\n",
    "              loss='sparse_categorical_crossentropy',\n",
    "              metrics=['accuracy'])\n",
    "\n",
    "ann2.fit(X_train, y_train, epochs=10)\n",
    "### end of source 1"
   ]
  },
  {
   "cell_type": "markdown",
   "id": "0984da7e",
   "metadata": {},
   "source": [
    "## Evaluate"
   ]
  },
  {
   "cell_type": "code",
   "execution_count": 39,
   "id": "a2e2f66b",
   "metadata": {
    "scrolled": false
   },
   "outputs": [
    {
     "name": "stdout",
     "output_type": "stream",
     "text": [
      "10000/10000 [==============================] - 2s 220us/sample - loss: 1.4478 - acc: 0.4790\n"
     ]
    },
    {
     "data": {
      "text/plain": [
       "[1.4477914001464844, 0.479]"
      ]
     },
     "execution_count": 39,
     "metadata": {},
     "output_type": "execute_result"
    }
   ],
   "source": [
    "ann2.evaluate(X_test, y_test)"
   ]
  },
  {
   "cell_type": "markdown",
   "id": "65daada7",
   "metadata": {},
   "source": [
    "**After evaluating the network on training data you get a loss of ~1.43 and an accuracy of ~49%, this is not much different (300s)**"
   ]
  },
  {
   "cell_type": "markdown",
   "id": "048ce7d2",
   "metadata": {},
   "source": [
    "# 4. Convolutional Network Training (Attempt One)"
   ]
  },
  {
   "cell_type": "code",
   "execution_count": 40,
   "id": "cd86fbf3",
   "metadata": {},
   "outputs": [
    {
     "name": "stdout",
     "output_type": "stream",
     "text": [
      "Epoch 1/10\n",
      "50000/50000 [==============================] - 28s 561us/sample - loss: 1.4525 - acc: 0.4774\n",
      "Epoch 2/10\n",
      "50000/50000 [==============================] - 27s 547us/sample - loss: 1.1239 - acc: 0.6068\n",
      "Epoch 3/10\n",
      "50000/50000 [==============================] - 27s 543us/sample - loss: 0.9800 - acc: 0.6586 - loss: 0.9802 -  - ETA: 1s - loss: 0.9801 - ETA: 0s - loss: 0.980\n",
      "Epoch 4/10\n",
      "50000/50000 [==============================] - 28s 557us/sample - loss: 0.8951 - acc: 0.6883\n",
      "Epoch 5/10\n",
      "50000/50000 [==============================] - 27s 548us/sample - loss: 0.8275 - acc: 0.7135\n",
      "Epoch 6/10\n",
      "50000/50000 [==============================] - 27s 537us/sample - loss: 0.7711 - acc: 0.7309\n",
      "Epoch 7/10\n",
      "50000/50000 [==============================] - 26s 526us/sample - loss: 0.7140 - acc: 0.7503\n",
      "Epoch 8/10\n",
      "50000/50000 [==============================] - 27s 537us/sample - loss: 0.6683 - acc: 0.7664\n",
      "Epoch 9/10\n",
      "50000/50000 [==============================] - 26s 525us/sample - loss: 0.6218 - acc: 0.7824\n",
      "Epoch 10/10\n",
      "50000/50000 [==============================] - 25s 510us/sample - loss: 0.5811 - acc: 0.7971\n"
     ]
    },
    {
     "data": {
      "text/plain": [
       "<tensorflow.python.keras.callbacks.History at 0x21705852b00>"
      ]
     },
     "execution_count": 40,
     "metadata": {},
     "output_type": "execute_result"
    }
   ],
   "source": [
    "# Convolutional Neural Network training template code from source [1]\n",
    "#Building model\n",
    "cnn1 = models.Sequential([\n",
    "    #Convultion Layer\n",
    "    layers.Conv2D(filters=32, kernel_size=(3, 3), activation='relu', input_shape=(32, 32, 3)),\n",
    "    #Pooling Layer\n",
    "    layers.MaxPooling2D((2, 2)),\n",
    "    \n",
    "    #Convolution Layer\n",
    "    layers.Conv2D(filters=64, kernel_size=(3, 3), activation='relu'),\n",
    "    #Pooling Layer\n",
    "    layers.MaxPooling2D((2, 2)),\n",
    "    \n",
    "    #Flatten Layer flattens the input\n",
    "    layers.Flatten(),\n",
    "    #Deep layer with 64 deep neurons\n",
    "    layers.Dense(64, activation='relu'),\n",
    "    #Deep Layer with 10 softmax neurons, softmax used as it normalises output\n",
    "    layers.Dense(10, activation='softmax')\n",
    "])\n",
    "\n",
    "# compiler code\n",
    "cnn1.compile(optimizer='adam',\n",
    "              loss='sparse_categorical_crossentropy',\n",
    "              metrics=['accuracy'])\n",
    "\n",
    "cnn1.fit(X_train, y_train, epochs=10)\n",
    "### end of source 1"
   ]
  },
  {
   "cell_type": "markdown",
   "id": "3b2001bc",
   "metadata": {},
   "source": [
    "## Evaluate"
   ]
  },
  {
   "cell_type": "code",
   "execution_count": 42,
   "id": "2f406341",
   "metadata": {
    "scrolled": true
   },
   "outputs": [
    {
     "name": "stdout",
     "output_type": "stream",
     "text": [
      "10000/10000 [==============================] - 2s 173us/sample - loss: 1.0487 - acc: 0.6666\n"
     ]
    },
    {
     "data": {
      "text/plain": [
       "[1.0487308279037475, 0.6666]"
      ]
     },
     "execution_count": 42,
     "metadata": {},
     "output_type": "execute_result"
    }
   ],
   "source": [
    "cnn1.evaluate(X_test, y_test)"
   ]
  },
  {
   "cell_type": "markdown",
   "id": "f32a8467",
   "metadata": {},
   "source": [
    "**Great performance in low time compared previous attemps**"
   ]
  },
  {
   "cell_type": "markdown",
   "id": "3b3ff1fc",
   "metadata": {},
   "source": [
    "# 5. Convolutional Network Training (Attempt Two)"
   ]
  },
  {
   "cell_type": "code",
   "execution_count": 43,
   "id": "af8e1848",
   "metadata": {},
   "outputs": [
    {
     "name": "stdout",
     "output_type": "stream",
     "text": [
      "Epoch 1/12\n",
      "50000/50000 [==============================] - 49s 986us/sample - loss: 1.4864 - acc: 0.4629\n",
      "Epoch 2/12\n",
      "50000/50000 [==============================] - 49s 973us/sample - loss: 1.1224 - acc: 0.6054\n",
      "Epoch 3/12\n",
      "50000/50000 [==============================] - 51s 1ms/sample - loss: 0.9799 - acc: 0.65911s - loss:\n",
      "Epoch 4/12\n",
      "50000/50000 [==============================] - 49s 986us/sample - loss: 0.8924 - acc: 0.6915\n",
      "Epoch 5/12\n",
      "50000/50000 [==============================] - 51s 1ms/sample - loss: 0.8302 - acc: 0.7137\n",
      "Epoch 6/12\n",
      "50000/50000 [==============================] - 48s 966us/sample - loss: 0.7758 - acc: 0.7306\n",
      "Epoch 7/12\n",
      "50000/50000 [==============================] - 48s 960us/sample - loss: 0.7287 - acc: 0.7468\n",
      "Epoch 8/12\n",
      "50000/50000 [==============================] - 49s 988us/sample - loss: 0.6860 - acc: 0.7609 - loss: 0.6856 \n",
      "Epoch 9/12\n",
      "50000/50000 [==============================] - 48s 954us/sample - loss: 0.6529 - acc: 0.7728\n",
      "Epoch 10/12\n",
      "50000/50000 [==============================] - 50s 990us/sample - loss: 0.6134 - acc: 0.7858\n",
      "Epoch 11/12\n",
      "50000/50000 [==============================] - 50s 1ms/sample - loss: 0.5798 - acc: 0.7978\n",
      "Epoch 12/12\n",
      "50000/50000 [==============================] - 48s 968us/sample - loss: 0.5470 - acc: 0.8079\n"
     ]
    },
    {
     "data": {
      "text/plain": [
       "<tensorflow.python.keras.callbacks.History at 0x21705cf23c8>"
      ]
     },
     "execution_count": 43,
     "metadata": {},
     "output_type": "execute_result"
    }
   ],
   "source": [
    "#Building model\n",
    "cnn2 = models.Sequential([\n",
    "    #Convultion Layer\n",
    "    layers.Conv2D(filters=64, kernel_size=(3, 3), activation='relu', input_shape=(32, 32, 3)),\n",
    "    #Pooling Layer\n",
    "    layers.MaxPooling2D((2, 2)),\n",
    "    \n",
    "    #Convolution Layer\n",
    "    layers.Conv2D(filters=96, kernel_size=(3, 3), activation='relu'),\n",
    "    #Pooling Layer\n",
    "    layers.MaxPooling2D((2, 2)),\n",
    "    \n",
    "    #Flatten Layer flattens the input\n",
    "    layers.Flatten(),\n",
    "    #Deep layer with 64 deep neurons\n",
    "    layers.Dense(64, activation='relu'),\n",
    "    #Deep Layer with 10 softmax neurons, softmax used as it normalises output\n",
    "    layers.Dense(10, activation='softmax')\n",
    "])\n",
    "\n",
    "#compiler code\n",
    "cnn2.compile(optimizer='adam',\n",
    "              loss='sparse_categorical_crossentropy',\n",
    "              metrics=['accuracy'])\n",
    "\n",
    "cnn2.fit(X_train, y_train, epochs=12)"
   ]
  },
  {
   "cell_type": "markdown",
   "id": "9c17c523",
   "metadata": {},
   "source": [
    "## Evaluate"
   ]
  },
  {
   "cell_type": "code",
   "execution_count": 44,
   "id": "883f5177",
   "metadata": {
    "scrolled": false
   },
   "outputs": [
    {
     "name": "stdout",
     "output_type": "stream",
     "text": [
      "10000/10000 [==============================] - 3s 266us/sample - loss: 0.9857 - acc: 0.6932\n"
     ]
    },
    {
     "data": {
      "text/plain": [
       "[0.9857074790000916, 0.6932]"
      ]
     },
     "execution_count": 44,
     "metadata": {},
     "output_type": "execute_result"
    }
   ],
   "source": [
    "cnn2.evaluate(X_test,y_test)"
   ]
  },
  {
   "cell_type": "markdown",
   "id": "72641712",
   "metadata": {},
   "source": [
    "**Good performance still but took much longer to complete with negligble difference to performance**"
   ]
  },
  {
   "cell_type": "markdown",
   "id": "4e38a379",
   "metadata": {},
   "source": [
    "# 6. Convolutional Network Training (Attempt Three)"
   ]
  },
  {
   "cell_type": "code",
   "execution_count": 45,
   "id": "e01c9a36",
   "metadata": {
    "scrolled": false
   },
   "outputs": [
    {
     "name": "stdout",
     "output_type": "stream",
     "text": [
      "Epoch 1/20\n",
      "50000/50000 [==============================] - 28s 564us/sample - loss: 0.2744 - acc: 0.9003\n",
      "Epoch 2/20\n",
      "50000/50000 [==============================] - 29s 574us/sample - loss: 0.2600 - acc: 0.9067\n",
      "Epoch 3/20\n",
      "50000/50000 [==============================] - 28s 565us/sample - loss: 0.2566 - acc: 0.9086\n"
     ]
    },
    {
     "data": {
      "text/plain": [
       "<tensorflow.python.keras.callbacks.History at 0x21706099ef0>"
      ]
     },
     "execution_count": 45,
     "metadata": {},
     "output_type": "execute_result"
    }
   ],
   "source": [
    "from tensorflow.keras.wrappers.scikit_learn import KerasClassifier\n",
    "from sklearn.model_selection import cross_val_score\n",
    "\n",
    "# This callback will stop the training when there is less than 1% improvement in accuracy for 3 epochs in a row\n",
    "callback = callbacks.EarlyStopping(monitor='loss', min_delta=0.02, patience=2)\n",
    "\n",
    "# modified cross validation code from source [2]\n",
    "#Building model\n",
    "def build_classifier():\n",
    "    cnn3 = models.Sequential([\n",
    "        #Convultion Layer\n",
    "        layers.Conv2D(filters=32, kernel_size=(3, 3), activation='relu', input_shape=(32, 32, 3)),\n",
    "        #Pooling Layer\n",
    "        layers.MaxPooling2D((2, 2)),\n",
    "\n",
    "        #Convolution Layer\n",
    "        layers.Conv2D(filters=64, kernel_size=(3, 3), activation='relu'),\n",
    "        #Pooling Layer\n",
    "        layers.MaxPooling2D((2, 2)),\n",
    "\n",
    "        #Flatten Layer flattens the input\n",
    "        layers.Flatten(),\n",
    "        #Deep layer with 64 deep neurons\n",
    "        layers.Dense(64, activation='relu'),\n",
    "        #Deep layer with 64 deep neurons\n",
    "        layers.Dense(10, activation='softmax')\n",
    "    ])\n",
    "\n",
    "classifier = KerasClassifier(build_fn = build_classifier, batch_size = 1, epochs=20)\n",
    "accuracies = cross_val_score(estimator = classifier, X=X_train, y=y_train, cv=5, n_jobs=-1)\n",
    "\n",
    "### end of source 2\n",
    "# source [2]\n",
    "\n",
    "#compiler code\n",
    "cnn3.compile(optimizer='adam',\n",
    "              loss='sparse_categorical_crossentropy',\n",
    "              metrics=['accuracy'])\n",
    "\n",
    "cnn3.fit(X_train, y_train, epochs=20, callbacks=[callback])"
   ]
  },
  {
   "cell_type": "code",
   "execution_count": 46,
   "id": "72cd56f6",
   "metadata": {
    "scrolled": true
   },
   "outputs": [
    {
     "name": "stdout",
     "output_type": "stream",
     "text": [
      "10000/10000 [==============================] - 2s 187us/sample - loss: 1.6713 - acc: 0.6713\n"
     ]
    },
    {
     "data": {
      "text/plain": [
       "[1.671295638179779, 0.6713]"
      ]
     },
     "execution_count": 46,
     "metadata": {},
     "output_type": "execute_result"
    }
   ],
   "source": [
    "cnn3.evaluate(X_test,y_test)"
   ]
  },
  {
   "cell_type": "markdown",
   "id": "aea381ab",
   "metadata": {},
   "source": [
    "# 7. Extra Evaluation"
   ]
  },
  {
   "cell_type": "markdown",
   "id": "89898639",
   "metadata": {},
   "source": [
    "## Defining functions and methods for visualising and analysing results"
   ]
  },
  {
   "cell_type": "code",
   "execution_count": 47,
   "id": "de6fbad6",
   "metadata": {
    "scrolled": true
   },
   "outputs": [],
   "source": [
    "y_pred1 = ann1.predict(X_test)\n",
    "y_pred2 = ann2.predict(X_test)\n",
    "y_pred3 = cnn1.predict(X_test)\n",
    "y_pred4 = cnn2.predict(X_test)\n",
    "y_pred5 = cnn3.predict(X_test)"
   ]
  },
  {
   "cell_type": "code",
   "execution_count": 48,
   "id": "8836dcf8",
   "metadata": {},
   "outputs": [],
   "source": [
    "#defining function that takes some input 2d list (u) and returns index of the max value inside each nested list\n",
    "def MaxyIndex(u):\n",
    "    y_classes = []\n",
    "    for i in range(len(u)):\n",
    "        max_pred = -1\n",
    "        max_pred_index = 0\n",
    "        for j in range(len(u[0])):\n",
    "            if u[i][j] > max_pred:\n",
    "                max_pred = u[i][j]\n",
    "                max_pred_index = j\n",
    "        y_classes.append(max_pred_index)\n",
    "    return y_classes\n",
    "\n",
    "#using function on probabilities of each class prediction from neural nets\n",
    "y_classes1 = MaxyIndex(y_pred1)\n",
    "y_classes2 = MaxyIndex(y_pred2)\n",
    "y_classes3 = MaxyIndex(y_pred3)\n",
    "y_classes4 = MaxyIndex(y_pred4)\n",
    "y_classes5 = MaxyIndex(y_pred5)"
   ]
  },
  {
   "cell_type": "code",
   "execution_count": 49,
   "id": "b8580fea",
   "metadata": {
    "scrolled": true
   },
   "outputs": [
    {
     "name": "stdout",
     "output_type": "stream",
     "text": [
      "1: cat\n",
      "2: ship\n",
      "3: ship\n",
      "4: ship\n",
      "5: deer\n"
     ]
    }
   ],
   "source": [
    "#first five predictions\n",
    "for i in range(5):\n",
    "    print(str(i+1) +\": \" + str(classes[y_classes1[i]]))"
   ]
  },
  {
   "cell_type": "code",
   "execution_count": 50,
   "id": "6ae73aec",
   "metadata": {
    "scrolled": true
   },
   "outputs": [
    {
     "data": {
      "text/plain": [
       "array([3, 8, 8, 0, 6, 6, 1, 6, 3, 1])"
      ]
     },
     "execution_count": 50,
     "metadata": {},
     "output_type": "execute_result"
    }
   ],
   "source": [
    "y_test[:10]"
   ]
  },
  {
   "cell_type": "code",
   "execution_count": 51,
   "id": "12f8162b",
   "metadata": {},
   "outputs": [
    {
     "data": {
      "text/plain": [
       "[3, 8, 8, 8, 4, 6, 3, 4, 4, 1]"
      ]
     },
     "execution_count": 51,
     "metadata": {},
     "output_type": "execute_result"
    }
   ],
   "source": [
    "y_classes1[:10]"
   ]
  },
  {
   "cell_type": "code",
   "execution_count": 52,
   "id": "635f2ad7",
   "metadata": {},
   "outputs": [
    {
     "data": {
      "image/png": "[encoded data removed]",
      "text/plain": [
       "<Figure size 1080x144 with 1 Axes>"
      ]
     },
     "metadata": {
      "needs_background": "light"
     },
     "output_type": "display_data"
    }
   ],
   "source": [
    "#function for plotting any sample from the dataset\n",
    "def plot_sample(X, y, index):\n",
    "    plt.figure(figsize = (15,2))\n",
    "    plt.imshow(X[index])\n",
    "    plt.xlabel(classes[y[index]])\n",
    "plot_sample(X_test, y_classes1,8000)"
   ]
  },
  {
   "cell_type": "code",
   "execution_count": 58,
   "id": "3e8b5c73",
   "metadata": {
    "scrolled": false
   },
   "outputs": [],
   "source": [
    "# function for return quantites of each class classified by neural nets\n",
    "def Qcounter(y_test):\n",
    "    quant_list = np.zeros(10, dtype = int)\n",
    "    for i in range(len(y_test)):\n",
    "            if (y_test[i] == 0):\n",
    "                quant_list[0] += 1\n",
    "            elif (y_test[i] == 1):\n",
    "                quant_list[1] += 1    \n",
    "            elif (y_test[i] == 2):\n",
    "                quant_list[2] += 1\n",
    "            elif (y_test[i] == 3):\n",
    "                quant_list[3] += 1\n",
    "            elif (y_test[i] == 4):\n",
    "                quant_list[4] += 1\n",
    "            elif (y_test[i] == 5):\n",
    "                quant_list[5] += 1\n",
    "            elif (y_test[i] == 6):\n",
    "                quant_list[6] += 1\n",
    "            elif (y_test[i] == 7):\n",
    "                quant_list[7] += 1\n",
    "            elif (y_test[i] == 8):\n",
    "                quant_list[8] += 1\n",
    "            elif (y_test[i] == 9):\n",
    "                quant_list[9] += 1\n",
    "    return quant_list"
   ]
  },
  {
   "cell_type": "code",
   "execution_count": 54,
   "id": "f76704d2",
   "metadata": {},
   "outputs": [],
   "source": [
    "from sklearn.metrics import confusion_matrix, classification_report\n",
    "# importing confusion matrix and classification report for evaluation purposes"
   ]
  },
  {
   "cell_type": "markdown",
   "id": "a34ec483",
   "metadata": {},
   "source": [
    "## ANN 1"
   ]
  },
  {
   "cell_type": "code",
   "execution_count": 55,
   "id": "ba0a97c2",
   "metadata": {
    "scrolled": true
   },
   "outputs": [
    {
     "data": {
      "text/html": [
       "<div>\n",
       "<style scoped>\n",
       "    .dataframe tbody tr th:only-of-type {\n",
       "        vertical-align: middle;\n",
       "    }\n",
       "\n",
       "    .dataframe tbody tr th {\n",
       "        vertical-align: top;\n",
       "    }\n",
       "\n",
       "    .dataframe thead th {\n",
       "        text-align: right;\n",
       "    }\n",
       "</style>\n",
       "<table border=\"1\" class=\"dataframe\">\n",
       "  <thead>\n",
       "    <tr style=\"text-align: right;\">\n",
       "      <th></th>\n",
       "      <th>airplane</th>\n",
       "      <th>automobile</th>\n",
       "      <th>bird</th>\n",
       "      <th>cat</th>\n",
       "      <th>deer</th>\n",
       "      <th>dog</th>\n",
       "      <th>frog</th>\n",
       "      <th>horse</th>\n",
       "      <th>ship</th>\n",
       "      <th>truck</th>\n",
       "    </tr>\n",
       "  </thead>\n",
       "  <tbody>\n",
       "    <tr>\n",
       "      <th>Test Data</th>\n",
       "      <td>1000</td>\n",
       "      <td>1000</td>\n",
       "      <td>1000</td>\n",
       "      <td>1000</td>\n",
       "      <td>1000</td>\n",
       "      <td>1000</td>\n",
       "      <td>1000</td>\n",
       "      <td>1000</td>\n",
       "      <td>1000</td>\n",
       "      <td>1000</td>\n",
       "    </tr>\n",
       "    <tr>\n",
       "      <th>Predicted Data</th>\n",
       "      <td>485</td>\n",
       "      <td>662</td>\n",
       "      <td>594</td>\n",
       "      <td>1209</td>\n",
       "      <td>1303</td>\n",
       "      <td>1088</td>\n",
       "      <td>1229</td>\n",
       "      <td>803</td>\n",
       "      <td>1625</td>\n",
       "      <td>1002</td>\n",
       "    </tr>\n",
       "  </tbody>\n",
       "</table>\n",
       "</div>"
      ],
      "text/plain": [
       "                airplane  automobile  bird   cat  deer   dog  frog  horse  \\\n",
       "Test Data           1000        1000  1000  1000  1000  1000  1000   1000   \n",
       "Predicted Data       485         662   594  1209  1303  1088  1229    803   \n",
       "\n",
       "                ship  truck  \n",
       "Test Data       1000   1000  \n",
       "Predicted Data  1625   1002  "
      ]
     },
     "execution_count": 55,
     "metadata": {},
     "output_type": "execute_result"
    }
   ],
   "source": [
    "# total test data vs predicted data\n",
    "pd.DataFrame(data=[QCounter(y_test), QCounter(y_classes1)], index=[\"Test Data\", \"Predicted Data\"], columns=classes)"
   ]
  },
  {
   "cell_type": "code",
   "execution_count": 68,
   "id": "1d7911e5",
   "metadata": {
    "scrolled": true
   },
   "outputs": [
    {
     "data": {
      "image/png": "[encoded data removed]",
      "text/plain": [
       "<Figure size 432x288 with 1 Axes>"
      ]
     },
     "metadata": {
      "needs_background": "light"
     },
     "output_type": "display_data"
    }
   ],
   "source": [
    "# graph that shows predicted vs actual for classes 0 to 9\n",
    "fig, ax = plt.subplots()\n",
    "x = np.linspace(0, 9, 10)\n",
    "y = Qcounter(y_test)\n",
    "plt.plot(x, y, label = \"actual\")\n",
    "y = Qcounter(y_classes1)\n",
    "plt.plot(x, y, label = \"predicted\")\n",
    "# setting labels\n",
    "ax.set_ylabel('# classified')\n",
    "ax.set_xlabel('classes')\n",
    "\n",
    "#setting x tick\n",
    "plt.xticks(x, classes, rotation=45)\n",
    "\n",
    "plt.legend()\n",
    "plt.show()"
   ]
  },
  {
   "cell_type": "code",
   "execution_count": 61,
   "id": "3c8b752c",
   "metadata": {
    "scrolled": true
   },
   "outputs": [
    {
     "name": "stdout",
     "output_type": "stream",
     "text": [
      "              precision    recall  f1-score   support\n",
      "\n",
      "           0       0.71      0.34      0.46      1000\n",
      "           1       0.68      0.45      0.54      1000\n",
      "           2       0.43      0.25      0.32      1000\n",
      "           3       0.30      0.37      0.33      1000\n",
      "           4       0.38      0.50      0.43      1000\n",
      "           5       0.37      0.41      0.39      1000\n",
      "           6       0.49      0.60      0.54      1000\n",
      "           7       0.61      0.49      0.54      1000\n",
      "           8       0.47      0.77      0.58      1000\n",
      "           9       0.56      0.56      0.56      1000\n",
      "\n",
      "    accuracy                           0.47     10000\n",
      "   macro avg       0.50      0.47      0.47     10000\n",
      "weighted avg       0.50      0.47      0.47     10000\n",
      "\n"
     ]
    }
   ],
   "source": [
    "# classification report\n",
    "print(classification_report(y_test,y_classes1))"
   ]
  },
  {
   "cell_type": "code",
   "execution_count": 62,
   "id": "c7b56af0",
   "metadata": {
    "scrolled": false
   },
   "outputs": [
    {
     "data": {
      "text/html": [
       "<div>\n",
       "<style scoped>\n",
       "    .dataframe tbody tr th:only-of-type {\n",
       "        vertical-align: middle;\n",
       "    }\n",
       "\n",
       "    .dataframe tbody tr th {\n",
       "        vertical-align: top;\n",
       "    }\n",
       "\n",
       "    .dataframe thead th {\n",
       "        text-align: right;\n",
       "    }\n",
       "</style>\n",
       "<table border=\"1\" class=\"dataframe\">\n",
       "  <thead>\n",
       "    <tr style=\"text-align: right;\">\n",
       "      <th></th>\n",
       "      <th>Predicted airplane</th>\n",
       "      <th>Predicted automobile</th>\n",
       "      <th>Predicted bird</th>\n",
       "      <th>Predicted cat</th>\n",
       "      <th>Predicted deer</th>\n",
       "      <th>Predicted dog</th>\n",
       "      <th>Predicted frog</th>\n",
       "      <th>Predicted horse</th>\n",
       "      <th>Predicted ship</th>\n",
       "      <th>Predicted truck</th>\n",
       "    </tr>\n",
       "  </thead>\n",
       "  <tbody>\n",
       "    <tr>\n",
       "      <th>Actual airplane</th>\n",
       "      <td>342</td>\n",
       "      <td>20</td>\n",
       "      <td>70</td>\n",
       "      <td>65</td>\n",
       "      <td>66</td>\n",
       "      <td>21</td>\n",
       "      <td>29</td>\n",
       "      <td>33</td>\n",
       "      <td>319</td>\n",
       "      <td>35</td>\n",
       "    </tr>\n",
       "    <tr>\n",
       "      <th>Actual automobile</th>\n",
       "      <td>14</td>\n",
       "      <td>452</td>\n",
       "      <td>9</td>\n",
       "      <td>50</td>\n",
       "      <td>23</td>\n",
       "      <td>37</td>\n",
       "      <td>19</td>\n",
       "      <td>24</td>\n",
       "      <td>161</td>\n",
       "      <td>211</td>\n",
       "    </tr>\n",
       "    <tr>\n",
       "      <th>Actual bird</th>\n",
       "      <td>45</td>\n",
       "      <td>18</td>\n",
       "      <td>254</td>\n",
       "      <td>133</td>\n",
       "      <td>220</td>\n",
       "      <td>101</td>\n",
       "      <td>123</td>\n",
       "      <td>46</td>\n",
       "      <td>48</td>\n",
       "      <td>12</td>\n",
       "    </tr>\n",
       "    <tr>\n",
       "      <th>Actual cat</th>\n",
       "      <td>7</td>\n",
       "      <td>10</td>\n",
       "      <td>44</td>\n",
       "      <td>367</td>\n",
       "      <td>72</td>\n",
       "      <td>246</td>\n",
       "      <td>143</td>\n",
       "      <td>28</td>\n",
       "      <td>37</td>\n",
       "      <td>46</td>\n",
       "    </tr>\n",
       "    <tr>\n",
       "      <th>Actual deer</th>\n",
       "      <td>21</td>\n",
       "      <td>8</td>\n",
       "      <td>71</td>\n",
       "      <td>76</td>\n",
       "      <td>500</td>\n",
       "      <td>71</td>\n",
       "      <td>135</td>\n",
       "      <td>58</td>\n",
       "      <td>51</td>\n",
       "      <td>9</td>\n",
       "    </tr>\n",
       "    <tr>\n",
       "      <th>Actual dog</th>\n",
       "      <td>3</td>\n",
       "      <td>6</td>\n",
       "      <td>63</td>\n",
       "      <td>225</td>\n",
       "      <td>95</td>\n",
       "      <td>405</td>\n",
       "      <td>91</td>\n",
       "      <td>50</td>\n",
       "      <td>43</td>\n",
       "      <td>19</td>\n",
       "    </tr>\n",
       "    <tr>\n",
       "      <th>Actual frog</th>\n",
       "      <td>1</td>\n",
       "      <td>10</td>\n",
       "      <td>19</td>\n",
       "      <td>104</td>\n",
       "      <td>156</td>\n",
       "      <td>55</td>\n",
       "      <td>604</td>\n",
       "      <td>18</td>\n",
       "      <td>21</td>\n",
       "      <td>12</td>\n",
       "    </tr>\n",
       "    <tr>\n",
       "      <th>Actual horse</th>\n",
       "      <td>13</td>\n",
       "      <td>15</td>\n",
       "      <td>42</td>\n",
       "      <td>86</td>\n",
       "      <td>124</td>\n",
       "      <td>101</td>\n",
       "      <td>43</td>\n",
       "      <td>491</td>\n",
       "      <td>37</td>\n",
       "      <td>48</td>\n",
       "    </tr>\n",
       "    <tr>\n",
       "      <th>Actual ship</th>\n",
       "      <td>24</td>\n",
       "      <td>29</td>\n",
       "      <td>16</td>\n",
       "      <td>39</td>\n",
       "      <td>25</td>\n",
       "      <td>23</td>\n",
       "      <td>14</td>\n",
       "      <td>12</td>\n",
       "      <td>765</td>\n",
       "      <td>53</td>\n",
       "    </tr>\n",
       "    <tr>\n",
       "      <th>Actual truck</th>\n",
       "      <td>15</td>\n",
       "      <td>94</td>\n",
       "      <td>6</td>\n",
       "      <td>64</td>\n",
       "      <td>22</td>\n",
       "      <td>28</td>\n",
       "      <td>28</td>\n",
       "      <td>43</td>\n",
       "      <td>143</td>\n",
       "      <td>557</td>\n",
       "    </tr>\n",
       "  </tbody>\n",
       "</table>\n",
       "</div>"
      ],
      "text/plain": [
       "                   Predicted airplane  Predicted automobile  Predicted bird  \\\n",
       "Actual airplane                   342                    20              70   \n",
       "Actual automobile                  14                   452               9   \n",
       "Actual bird                        45                    18             254   \n",
       "Actual cat                          7                    10              44   \n",
       "Actual deer                        21                     8              71   \n",
       "Actual dog                          3                     6              63   \n",
       "Actual frog                         1                    10              19   \n",
       "Actual horse                       13                    15              42   \n",
       "Actual ship                        24                    29              16   \n",
       "Actual truck                       15                    94               6   \n",
       "\n",
       "                   Predicted cat  Predicted deer  Predicted dog  \\\n",
       "Actual airplane               65              66             21   \n",
       "Actual automobile             50              23             37   \n",
       "Actual bird                  133             220            101   \n",
       "Actual cat                   367              72            246   \n",
       "Actual deer                   76             500             71   \n",
       "Actual dog                   225              95            405   \n",
       "Actual frog                  104             156             55   \n",
       "Actual horse                  86             124            101   \n",
       "Actual ship                   39              25             23   \n",
       "Actual truck                  64              22             28   \n",
       "\n",
       "                   Predicted frog  Predicted horse  Predicted ship  \\\n",
       "Actual airplane                29               33             319   \n",
       "Actual automobile              19               24             161   \n",
       "Actual bird                   123               46              48   \n",
       "Actual cat                    143               28              37   \n",
       "Actual deer                   135               58              51   \n",
       "Actual dog                     91               50              43   \n",
       "Actual frog                   604               18              21   \n",
       "Actual horse                   43              491              37   \n",
       "Actual ship                    14               12             765   \n",
       "Actual truck                   28               43             143   \n",
       "\n",
       "                   Predicted truck  \n",
       "Actual airplane                 35  \n",
       "Actual automobile              211  \n",
       "Actual bird                     12  \n",
       "Actual cat                      46  \n",
       "Actual deer                      9  \n",
       "Actual dog                      19  \n",
       "Actual frog                     12  \n",
       "Actual horse                    48  \n",
       "Actual ship                     53  \n",
       "Actual truck                   557  "
      ]
     },
     "execution_count": 62,
     "metadata": {},
     "output_type": "execute_result"
    }
   ],
   "source": [
    "# dataframe confusion matrix\n",
    "CM_columns = []\n",
    "CM_index = []\n",
    "for i in range(len(classes)):\n",
    "    CM_columns.append('Predicted '+ classes[i])\n",
    "    CM_index.append('Actual '+ classes[i])\n",
    "\n",
    "pd.DataFrame(data=confusion_matrix(y_test, y_classes1),index=CM_index,columns=CM_columns)"
   ]
  },
  {
   "cell_type": "markdown",
   "id": "a23d3914",
   "metadata": {},
   "source": [
    "## ANN 2"
   ]
  },
  {
   "cell_type": "code",
   "execution_count": 63,
   "id": "7c2f7e89",
   "metadata": {
    "scrolled": true
   },
   "outputs": [
    {
     "data": {
      "text/html": [
       "<div>\n",
       "<style scoped>\n",
       "    .dataframe tbody tr th:only-of-type {\n",
       "        vertical-align: middle;\n",
       "    }\n",
       "\n",
       "    .dataframe tbody tr th {\n",
       "        vertical-align: top;\n",
       "    }\n",
       "\n",
       "    .dataframe thead th {\n",
       "        text-align: right;\n",
       "    }\n",
       "</style>\n",
       "<table border=\"1\" class=\"dataframe\">\n",
       "  <thead>\n",
       "    <tr style=\"text-align: right;\">\n",
       "      <th></th>\n",
       "      <th>airplane</th>\n",
       "      <th>automobile</th>\n",
       "      <th>bird</th>\n",
       "      <th>cat</th>\n",
       "      <th>deer</th>\n",
       "      <th>dog</th>\n",
       "      <th>frog</th>\n",
       "      <th>horse</th>\n",
       "      <th>ship</th>\n",
       "      <th>truck</th>\n",
       "    </tr>\n",
       "  </thead>\n",
       "  <tbody>\n",
       "    <tr>\n",
       "      <th>Test Data</th>\n",
       "      <td>1000</td>\n",
       "      <td>1000</td>\n",
       "      <td>1000</td>\n",
       "      <td>1000</td>\n",
       "      <td>1000</td>\n",
       "      <td>1000</td>\n",
       "      <td>1000</td>\n",
       "      <td>1000</td>\n",
       "      <td>1000</td>\n",
       "      <td>1000</td>\n",
       "    </tr>\n",
       "    <tr>\n",
       "      <th>Predicted Data</th>\n",
       "      <td>800</td>\n",
       "      <td>1288</td>\n",
       "      <td>1401</td>\n",
       "      <td>703</td>\n",
       "      <td>1882</td>\n",
       "      <td>322</td>\n",
       "      <td>954</td>\n",
       "      <td>619</td>\n",
       "      <td>1583</td>\n",
       "      <td>448</td>\n",
       "    </tr>\n",
       "  </tbody>\n",
       "</table>\n",
       "</div>"
      ],
      "text/plain": [
       "                airplane  automobile  bird   cat  deer   dog  frog  horse  \\\n",
       "Test Data           1000        1000  1000  1000  1000  1000  1000   1000   \n",
       "Predicted Data       800        1288  1401   703  1882   322   954    619   \n",
       "\n",
       "                ship  truck  \n",
       "Test Data       1000   1000  \n",
       "Predicted Data  1583    448  "
      ]
     },
     "execution_count": 63,
     "metadata": {},
     "output_type": "execute_result"
    }
   ],
   "source": [
    "# total test data vs predicted data\n",
    "pd.DataFrame(data=[QCounter(y_test), QCounter(y_classes2)], index=[\"Test Data\", \"Predicted Data\"], columns=classes)"
   ]
  },
  {
   "cell_type": "code",
   "execution_count": 70,
   "id": "0f3dab66",
   "metadata": {},
   "outputs": [
    {
     "data": {
      "image/png": "[encoded data removed]",
      "text/plain": [
       "<Figure size 432x288 with 1 Axes>"
      ]
     },
     "metadata": {
      "needs_background": "light"
     },
     "output_type": "display_data"
    }
   ],
   "source": [
    "# graph that shows predicted vs actual for classes 0 to 9\n",
    "fig, ax = plt.subplots()\n",
    "x = np.linspace(0, 9, 10)\n",
    "y = Qcounter(y_test)\n",
    "plt.plot(x, y, label = \"actual\")\n",
    "y = Qcounter(y_classes2)\n",
    "plt.plot(x, y, label = \"predicted\")\n",
    "# setting labels\n",
    "ax.set_ylabel('# classified')\n",
    "ax.set_xlabel('classes')\n",
    "\n",
    "#setting x tick\n",
    "plt.xticks(x, classes, rotation=45)\n",
    "\n",
    "plt.legend()\n",
    "plt.show()"
   ]
  },
  {
   "cell_type": "code",
   "execution_count": 71,
   "id": "5ffa4ca7",
   "metadata": {},
   "outputs": [
    {
     "name": "stdout",
     "output_type": "stream",
     "text": [
      "              precision    recall  f1-score   support\n",
      "\n",
      "           0       0.61      0.49      0.54      1000\n",
      "           1       0.56      0.72      0.63      1000\n",
      "           2       0.32      0.45      0.38      1000\n",
      "           3       0.39      0.28      0.33      1000\n",
      "           4       0.33      0.62      0.43      1000\n",
      "           5       0.61      0.20      0.30      1000\n",
      "           6       0.54      0.52      0.53      1000\n",
      "           7       0.71      0.44      0.54      1000\n",
      "           8       0.49      0.77      0.60      1000\n",
      "           9       0.70      0.31      0.43      1000\n",
      "\n",
      "    accuracy                           0.48     10000\n",
      "   macro avg       0.53      0.48      0.47     10000\n",
      "weighted avg       0.53      0.48      0.47     10000\n",
      "\n"
     ]
    }
   ],
   "source": [
    "# classification report\n",
    "print(classification_report(y_test,y_classes2))"
   ]
  },
  {
   "cell_type": "code",
   "execution_count": 72,
   "id": "467ca07f",
   "metadata": {
    "scrolled": false
   },
   "outputs": [
    {
     "data": {
      "text/html": [
       "<div>\n",
       "<style scoped>\n",
       "    .dataframe tbody tr th:only-of-type {\n",
       "        vertical-align: middle;\n",
       "    }\n",
       "\n",
       "    .dataframe tbody tr th {\n",
       "        vertical-align: top;\n",
       "    }\n",
       "\n",
       "    .dataframe thead th {\n",
       "        text-align: right;\n",
       "    }\n",
       "</style>\n",
       "<table border=\"1\" class=\"dataframe\">\n",
       "  <thead>\n",
       "    <tr style=\"text-align: right;\">\n",
       "      <th></th>\n",
       "      <th>Predicted airplane</th>\n",
       "      <th>Predicted automobile</th>\n",
       "      <th>Predicted bird</th>\n",
       "      <th>Predicted cat</th>\n",
       "      <th>Predicted deer</th>\n",
       "      <th>Predicted dog</th>\n",
       "      <th>Predicted frog</th>\n",
       "      <th>Predicted horse</th>\n",
       "      <th>Predicted ship</th>\n",
       "      <th>Predicted truck</th>\n",
       "    </tr>\n",
       "  </thead>\n",
       "  <tbody>\n",
       "    <tr>\n",
       "      <th>Actual airplane</th>\n",
       "      <td>486</td>\n",
       "      <td>42</td>\n",
       "      <td>121</td>\n",
       "      <td>7</td>\n",
       "      <td>63</td>\n",
       "      <td>3</td>\n",
       "      <td>16</td>\n",
       "      <td>11</td>\n",
       "      <td>244</td>\n",
       "      <td>7</td>\n",
       "    </tr>\n",
       "    <tr>\n",
       "      <th>Actual automobile</th>\n",
       "      <td>30</td>\n",
       "      <td>719</td>\n",
       "      <td>21</td>\n",
       "      <td>10</td>\n",
       "      <td>27</td>\n",
       "      <td>2</td>\n",
       "      <td>15</td>\n",
       "      <td>12</td>\n",
       "      <td>125</td>\n",
       "      <td>39</td>\n",
       "    </tr>\n",
       "    <tr>\n",
       "      <th>Actual bird</th>\n",
       "      <td>58</td>\n",
       "      <td>22</td>\n",
       "      <td>451</td>\n",
       "      <td>49</td>\n",
       "      <td>257</td>\n",
       "      <td>19</td>\n",
       "      <td>73</td>\n",
       "      <td>24</td>\n",
       "      <td>43</td>\n",
       "      <td>4</td>\n",
       "    </tr>\n",
       "    <tr>\n",
       "      <th>Actual cat</th>\n",
       "      <td>28</td>\n",
       "      <td>41</td>\n",
       "      <td>170</td>\n",
       "      <td>277</td>\n",
       "      <td>184</td>\n",
       "      <td>54</td>\n",
       "      <td>132</td>\n",
       "      <td>28</td>\n",
       "      <td>60</td>\n",
       "      <td>26</td>\n",
       "    </tr>\n",
       "    <tr>\n",
       "      <th>Actual deer</th>\n",
       "      <td>37</td>\n",
       "      <td>19</td>\n",
       "      <td>160</td>\n",
       "      <td>28</td>\n",
       "      <td>622</td>\n",
       "      <td>8</td>\n",
       "      <td>58</td>\n",
       "      <td>23</td>\n",
       "      <td>44</td>\n",
       "      <td>1</td>\n",
       "    </tr>\n",
       "    <tr>\n",
       "      <th>Actual dog</th>\n",
       "      <td>14</td>\n",
       "      <td>19</td>\n",
       "      <td>183</td>\n",
       "      <td>202</td>\n",
       "      <td>181</td>\n",
       "      <td>196</td>\n",
       "      <td>84</td>\n",
       "      <td>48</td>\n",
       "      <td>60</td>\n",
       "      <td>13</td>\n",
       "    </tr>\n",
       "    <tr>\n",
       "      <th>Actual frog</th>\n",
       "      <td>6</td>\n",
       "      <td>26</td>\n",
       "      <td>119</td>\n",
       "      <td>39</td>\n",
       "      <td>246</td>\n",
       "      <td>8</td>\n",
       "      <td>518</td>\n",
       "      <td>6</td>\n",
       "      <td>27</td>\n",
       "      <td>5</td>\n",
       "    </tr>\n",
       "    <tr>\n",
       "      <th>Actual horse</th>\n",
       "      <td>38</td>\n",
       "      <td>19</td>\n",
       "      <td>114</td>\n",
       "      <td>62</td>\n",
       "      <td>223</td>\n",
       "      <td>23</td>\n",
       "      <td>22</td>\n",
       "      <td>440</td>\n",
       "      <td>36</td>\n",
       "      <td>23</td>\n",
       "    </tr>\n",
       "    <tr>\n",
       "      <th>Actual ship</th>\n",
       "      <td>58</td>\n",
       "      <td>63</td>\n",
       "      <td>26</td>\n",
       "      <td>11</td>\n",
       "      <td>37</td>\n",
       "      <td>2</td>\n",
       "      <td>10</td>\n",
       "      <td>6</td>\n",
       "      <td>769</td>\n",
       "      <td>18</td>\n",
       "    </tr>\n",
       "    <tr>\n",
       "      <th>Actual truck</th>\n",
       "      <td>45</td>\n",
       "      <td>318</td>\n",
       "      <td>36</td>\n",
       "      <td>18</td>\n",
       "      <td>42</td>\n",
       "      <td>7</td>\n",
       "      <td>26</td>\n",
       "      <td>21</td>\n",
       "      <td>175</td>\n",
       "      <td>312</td>\n",
       "    </tr>\n",
       "  </tbody>\n",
       "</table>\n",
       "</div>"
      ],
      "text/plain": [
       "                   Predicted airplane  Predicted automobile  Predicted bird  \\\n",
       "Actual airplane                   486                    42             121   \n",
       "Actual automobile                  30                   719              21   \n",
       "Actual bird                        58                    22             451   \n",
       "Actual cat                         28                    41             170   \n",
       "Actual deer                        37                    19             160   \n",
       "Actual dog                         14                    19             183   \n",
       "Actual frog                         6                    26             119   \n",
       "Actual horse                       38                    19             114   \n",
       "Actual ship                        58                    63              26   \n",
       "Actual truck                       45                   318              36   \n",
       "\n",
       "                   Predicted cat  Predicted deer  Predicted dog  \\\n",
       "Actual airplane                7              63              3   \n",
       "Actual automobile             10              27              2   \n",
       "Actual bird                   49             257             19   \n",
       "Actual cat                   277             184             54   \n",
       "Actual deer                   28             622              8   \n",
       "Actual dog                   202             181            196   \n",
       "Actual frog                   39             246              8   \n",
       "Actual horse                  62             223             23   \n",
       "Actual ship                   11              37              2   \n",
       "Actual truck                  18              42              7   \n",
       "\n",
       "                   Predicted frog  Predicted horse  Predicted ship  \\\n",
       "Actual airplane                16               11             244   \n",
       "Actual automobile              15               12             125   \n",
       "Actual bird                    73               24              43   \n",
       "Actual cat                    132               28              60   \n",
       "Actual deer                    58               23              44   \n",
       "Actual dog                     84               48              60   \n",
       "Actual frog                   518                6              27   \n",
       "Actual horse                   22              440              36   \n",
       "Actual ship                    10                6             769   \n",
       "Actual truck                   26               21             175   \n",
       "\n",
       "                   Predicted truck  \n",
       "Actual airplane                  7  \n",
       "Actual automobile               39  \n",
       "Actual bird                      4  \n",
       "Actual cat                      26  \n",
       "Actual deer                      1  \n",
       "Actual dog                      13  \n",
       "Actual frog                      5  \n",
       "Actual horse                    23  \n",
       "Actual ship                     18  \n",
       "Actual truck                   312  "
      ]
     },
     "execution_count": 72,
     "metadata": {},
     "output_type": "execute_result"
    }
   ],
   "source": [
    "# dataframe confusion matrix\n",
    "CM_columns = []\n",
    "CM_index = []\n",
    "for i in range(len(classes)):\n",
    "    CM_columns.append('Predicted '+ classes[i])\n",
    "    CM_index.append('Actual '+ classes[i])\n",
    "\n",
    "pd.DataFrame(data=confusion_matrix(y_test, y_classes2),index=CM_index,columns=CM_columns)"
   ]
  },
  {
   "cell_type": "markdown",
   "id": "3b9f5249",
   "metadata": {},
   "source": [
    "## CNN 1"
   ]
  },
  {
   "cell_type": "code",
   "execution_count": 73,
   "id": "bd4fdc2a",
   "metadata": {
    "scrolled": false
   },
   "outputs": [
    {
     "data": {
      "text/html": [
       "<div>\n",
       "<style scoped>\n",
       "    .dataframe tbody tr th:only-of-type {\n",
       "        vertical-align: middle;\n",
       "    }\n",
       "\n",
       "    .dataframe tbody tr th {\n",
       "        vertical-align: top;\n",
       "    }\n",
       "\n",
       "    .dataframe thead th {\n",
       "        text-align: right;\n",
       "    }\n",
       "</style>\n",
       "<table border=\"1\" class=\"dataframe\">\n",
       "  <thead>\n",
       "    <tr style=\"text-align: right;\">\n",
       "      <th></th>\n",
       "      <th>airplane</th>\n",
       "      <th>automobile</th>\n",
       "      <th>bird</th>\n",
       "      <th>cat</th>\n",
       "      <th>deer</th>\n",
       "      <th>dog</th>\n",
       "      <th>frog</th>\n",
       "      <th>horse</th>\n",
       "      <th>ship</th>\n",
       "      <th>truck</th>\n",
       "    </tr>\n",
       "  </thead>\n",
       "  <tbody>\n",
       "    <tr>\n",
       "      <th>Test Data</th>\n",
       "      <td>1000</td>\n",
       "      <td>1000</td>\n",
       "      <td>1000</td>\n",
       "      <td>1000</td>\n",
       "      <td>1000</td>\n",
       "      <td>1000</td>\n",
       "      <td>1000</td>\n",
       "      <td>1000</td>\n",
       "      <td>1000</td>\n",
       "      <td>1000</td>\n",
       "    </tr>\n",
       "    <tr>\n",
       "      <th>Predicted Data</th>\n",
       "      <td>868</td>\n",
       "      <td>784</td>\n",
       "      <td>682</td>\n",
       "      <td>1422</td>\n",
       "      <td>1546</td>\n",
       "      <td>876</td>\n",
       "      <td>805</td>\n",
       "      <td>1100</td>\n",
       "      <td>884</td>\n",
       "      <td>1033</td>\n",
       "    </tr>\n",
       "  </tbody>\n",
       "</table>\n",
       "</div>"
      ],
      "text/plain": [
       "                airplane  automobile  bird   cat  deer   dog  frog  horse  \\\n",
       "Test Data           1000        1000  1000  1000  1000  1000  1000   1000   \n",
       "Predicted Data       868         784   682  1422  1546   876   805   1100   \n",
       "\n",
       "                ship  truck  \n",
       "Test Data       1000   1000  \n",
       "Predicted Data   884   1033  "
      ]
     },
     "execution_count": 73,
     "metadata": {},
     "output_type": "execute_result"
    }
   ],
   "source": [
    "# total test data vs predicted data\n",
    "pd.DataFrame(data=[QCounter(y_test), QCounter(y_classes3)], index=[\"Test Data\", \"Predicted Data\"], columns=classes)"
   ]
  },
  {
   "cell_type": "code",
   "execution_count": 74,
   "id": "65d4a75e",
   "metadata": {},
   "outputs": [
    {
     "data": {
      "image/png": "[encoded data removed]",
      "text/plain": [
       "<Figure size 432x288 with 1 Axes>"
      ]
     },
     "metadata": {
      "needs_background": "light"
     },
     "output_type": "display_data"
    }
   ],
   "source": [
    "# graph that shows predicted vs actual for classes 0 to 9\n",
    "fig, ax = plt.subplots()\n",
    "x = np.linspace(0, 9, 10)\n",
    "y = Qcounter(y_test)\n",
    "plt.plot(x, y, label = \"actual\")\n",
    "y = Qcounter(y_classes3)\n",
    "plt.plot(x, y, label = \"predicted\")\n",
    "# setting labels\n",
    "ax.set_ylabel('# classified')\n",
    "ax.set_xlabel('classes')\n",
    "\n",
    "#setting x tick\n",
    "plt.xticks(x, classes, rotation=45)\n",
    "\n",
    "plt.legend()\n",
    "plt.show()"
   ]
  },
  {
   "cell_type": "code",
   "execution_count": 75,
   "id": "cd5872fe",
   "metadata": {
    "scrolled": false
   },
   "outputs": [
    {
     "name": "stdout",
     "output_type": "stream",
     "text": [
      "              precision    recall  f1-score   support\n",
      "\n",
      "           0       0.72      0.70      0.71      1000\n",
      "           1       0.76      0.81      0.79      1000\n",
      "           2       0.58      0.56      0.57      1000\n",
      "           3       0.47      0.48      0.47      1000\n",
      "           4       0.63      0.59      0.61      1000\n",
      "           5       0.54      0.63      0.58      1000\n",
      "           6       0.73      0.78      0.75      1000\n",
      "           7       0.70      0.70      0.70      1000\n",
      "           8       0.81      0.79      0.80      1000\n",
      "           9       0.81      0.69      0.75      1000\n",
      "\n",
      "    accuracy                           0.67     10000\n",
      "   macro avg       0.67      0.67      0.67     10000\n",
      "weighted avg       0.67      0.67      0.67     10000\n",
      "\n"
     ]
    }
   ],
   "source": [
    "# classification report\n",
    "print(classification_report(y_test,y_classes5))"
   ]
  },
  {
   "cell_type": "code",
   "execution_count": 76,
   "id": "63192df4",
   "metadata": {
    "scrolled": true
   },
   "outputs": [
    {
     "data": {
      "text/html": [
       "<div>\n",
       "<style scoped>\n",
       "    .dataframe tbody tr th:only-of-type {\n",
       "        vertical-align: middle;\n",
       "    }\n",
       "\n",
       "    .dataframe tbody tr th {\n",
       "        vertical-align: top;\n",
       "    }\n",
       "\n",
       "    .dataframe thead th {\n",
       "        text-align: right;\n",
       "    }\n",
       "</style>\n",
       "<table border=\"1\" class=\"dataframe\">\n",
       "  <thead>\n",
       "    <tr style=\"text-align: right;\">\n",
       "      <th></th>\n",
       "      <th>Predicted airplane</th>\n",
       "      <th>Predicted automobile</th>\n",
       "      <th>Predicted bird</th>\n",
       "      <th>Predicted cat</th>\n",
       "      <th>Predicted deer</th>\n",
       "      <th>Predicted dog</th>\n",
       "      <th>Predicted frog</th>\n",
       "      <th>Predicted horse</th>\n",
       "      <th>Predicted ship</th>\n",
       "      <th>Predicted truck</th>\n",
       "    </tr>\n",
       "  </thead>\n",
       "  <tbody>\n",
       "    <tr>\n",
       "      <th>Actual airplane</th>\n",
       "      <td>673</td>\n",
       "      <td>9</td>\n",
       "      <td>45</td>\n",
       "      <td>54</td>\n",
       "      <td>59</td>\n",
       "      <td>18</td>\n",
       "      <td>9</td>\n",
       "      <td>24</td>\n",
       "      <td>64</td>\n",
       "      <td>45</td>\n",
       "    </tr>\n",
       "    <tr>\n",
       "      <th>Actual automobile</th>\n",
       "      <td>24</td>\n",
       "      <td>698</td>\n",
       "      <td>12</td>\n",
       "      <td>35</td>\n",
       "      <td>15</td>\n",
       "      <td>13</td>\n",
       "      <td>10</td>\n",
       "      <td>22</td>\n",
       "      <td>35</td>\n",
       "      <td>136</td>\n",
       "    </tr>\n",
       "    <tr>\n",
       "      <th>Actual bird</th>\n",
       "      <td>49</td>\n",
       "      <td>3</td>\n",
       "      <td>452</td>\n",
       "      <td>127</td>\n",
       "      <td>212</td>\n",
       "      <td>51</td>\n",
       "      <td>41</td>\n",
       "      <td>46</td>\n",
       "      <td>8</td>\n",
       "      <td>11</td>\n",
       "    </tr>\n",
       "    <tr>\n",
       "      <th>Actual cat</th>\n",
       "      <td>7</td>\n",
       "      <td>5</td>\n",
       "      <td>34</td>\n",
       "      <td>593</td>\n",
       "      <td>125</td>\n",
       "      <td>145</td>\n",
       "      <td>30</td>\n",
       "      <td>47</td>\n",
       "      <td>6</td>\n",
       "      <td>8</td>\n",
       "    </tr>\n",
       "    <tr>\n",
       "      <th>Actual deer</th>\n",
       "      <td>9</td>\n",
       "      <td>1</td>\n",
       "      <td>20</td>\n",
       "      <td>76</td>\n",
       "      <td>779</td>\n",
       "      <td>25</td>\n",
       "      <td>19</td>\n",
       "      <td>65</td>\n",
       "      <td>3</td>\n",
       "      <td>3</td>\n",
       "    </tr>\n",
       "    <tr>\n",
       "      <th>Actual dog</th>\n",
       "      <td>9</td>\n",
       "      <td>0</td>\n",
       "      <td>31</td>\n",
       "      <td>269</td>\n",
       "      <td>83</td>\n",
       "      <td>524</td>\n",
       "      <td>14</td>\n",
       "      <td>66</td>\n",
       "      <td>4</td>\n",
       "      <td>0</td>\n",
       "    </tr>\n",
       "    <tr>\n",
       "      <th>Actual frog</th>\n",
       "      <td>3</td>\n",
       "      <td>2</td>\n",
       "      <td>45</td>\n",
       "      <td>109</td>\n",
       "      <td>124</td>\n",
       "      <td>31</td>\n",
       "      <td>661</td>\n",
       "      <td>15</td>\n",
       "      <td>3</td>\n",
       "      <td>7</td>\n",
       "    </tr>\n",
       "    <tr>\n",
       "      <th>Actual horse</th>\n",
       "      <td>7</td>\n",
       "      <td>0</td>\n",
       "      <td>19</td>\n",
       "      <td>57</td>\n",
       "      <td>100</td>\n",
       "      <td>41</td>\n",
       "      <td>4</td>\n",
       "      <td>767</td>\n",
       "      <td>1</td>\n",
       "      <td>4</td>\n",
       "    </tr>\n",
       "    <tr>\n",
       "      <th>Actual ship</th>\n",
       "      <td>67</td>\n",
       "      <td>20</td>\n",
       "      <td>11</td>\n",
       "      <td>58</td>\n",
       "      <td>31</td>\n",
       "      <td>13</td>\n",
       "      <td>11</td>\n",
       "      <td>11</td>\n",
       "      <td>739</td>\n",
       "      <td>39</td>\n",
       "    </tr>\n",
       "    <tr>\n",
       "      <th>Actual truck</th>\n",
       "      <td>20</td>\n",
       "      <td>46</td>\n",
       "      <td>13</td>\n",
       "      <td>44</td>\n",
       "      <td>18</td>\n",
       "      <td>15</td>\n",
       "      <td>6</td>\n",
       "      <td>37</td>\n",
       "      <td>21</td>\n",
       "      <td>780</td>\n",
       "    </tr>\n",
       "  </tbody>\n",
       "</table>\n",
       "</div>"
      ],
      "text/plain": [
       "                   Predicted airplane  Predicted automobile  Predicted bird  \\\n",
       "Actual airplane                   673                     9              45   \n",
       "Actual automobile                  24                   698              12   \n",
       "Actual bird                        49                     3             452   \n",
       "Actual cat                          7                     5              34   \n",
       "Actual deer                         9                     1              20   \n",
       "Actual dog                          9                     0              31   \n",
       "Actual frog                         3                     2              45   \n",
       "Actual horse                        7                     0              19   \n",
       "Actual ship                        67                    20              11   \n",
       "Actual truck                       20                    46              13   \n",
       "\n",
       "                   Predicted cat  Predicted deer  Predicted dog  \\\n",
       "Actual airplane               54              59             18   \n",
       "Actual automobile             35              15             13   \n",
       "Actual bird                  127             212             51   \n",
       "Actual cat                   593             125            145   \n",
       "Actual deer                   76             779             25   \n",
       "Actual dog                   269              83            524   \n",
       "Actual frog                  109             124             31   \n",
       "Actual horse                  57             100             41   \n",
       "Actual ship                   58              31             13   \n",
       "Actual truck                  44              18             15   \n",
       "\n",
       "                   Predicted frog  Predicted horse  Predicted ship  \\\n",
       "Actual airplane                 9               24              64   \n",
       "Actual automobile              10               22              35   \n",
       "Actual bird                    41               46               8   \n",
       "Actual cat                     30               47               6   \n",
       "Actual deer                    19               65               3   \n",
       "Actual dog                     14               66               4   \n",
       "Actual frog                   661               15               3   \n",
       "Actual horse                    4              767               1   \n",
       "Actual ship                    11               11             739   \n",
       "Actual truck                    6               37              21   \n",
       "\n",
       "                   Predicted truck  \n",
       "Actual airplane                 45  \n",
       "Actual automobile              136  \n",
       "Actual bird                     11  \n",
       "Actual cat                       8  \n",
       "Actual deer                      3  \n",
       "Actual dog                       0  \n",
       "Actual frog                      7  \n",
       "Actual horse                     4  \n",
       "Actual ship                     39  \n",
       "Actual truck                   780  "
      ]
     },
     "execution_count": 76,
     "metadata": {},
     "output_type": "execute_result"
    }
   ],
   "source": [
    "# dataframe confusion matrix\n",
    "CM_columns = []\n",
    "CM_index = []\n",
    "for i in range(len(classes)):\n",
    "    CM_columns.append('Predicted '+ classes[i])\n",
    "    CM_index.append('Actual '+ classes[i])\n",
    "\n",
    "pd.DataFrame(data=confusion_matrix(y_test, y_classes3),index=CM_index,columns=CM_columns)"
   ]
  },
  {
   "cell_type": "markdown",
   "id": "1f68435c",
   "metadata": {},
   "source": [
    "## CNN 2"
   ]
  },
  {
   "cell_type": "code",
   "execution_count": 77,
   "id": "8da522c0",
   "metadata": {
    "scrolled": false
   },
   "outputs": [
    {
     "data": {
      "text/html": [
       "<div>\n",
       "<style scoped>\n",
       "    .dataframe tbody tr th:only-of-type {\n",
       "        vertical-align: middle;\n",
       "    }\n",
       "\n",
       "    .dataframe tbody tr th {\n",
       "        vertical-align: top;\n",
       "    }\n",
       "\n",
       "    .dataframe thead th {\n",
       "        text-align: right;\n",
       "    }\n",
       "</style>\n",
       "<table border=\"1\" class=\"dataframe\">\n",
       "  <thead>\n",
       "    <tr style=\"text-align: right;\">\n",
       "      <th></th>\n",
       "      <th>airplane</th>\n",
       "      <th>automobile</th>\n",
       "      <th>bird</th>\n",
       "      <th>cat</th>\n",
       "      <th>deer</th>\n",
       "      <th>dog</th>\n",
       "      <th>frog</th>\n",
       "      <th>horse</th>\n",
       "      <th>ship</th>\n",
       "      <th>truck</th>\n",
       "    </tr>\n",
       "  </thead>\n",
       "  <tbody>\n",
       "    <tr>\n",
       "      <th>Test Data</th>\n",
       "      <td>1000</td>\n",
       "      <td>1000</td>\n",
       "      <td>1000</td>\n",
       "      <td>1000</td>\n",
       "      <td>1000</td>\n",
       "      <td>1000</td>\n",
       "      <td>1000</td>\n",
       "      <td>1000</td>\n",
       "      <td>1000</td>\n",
       "      <td>1000</td>\n",
       "    </tr>\n",
       "    <tr>\n",
       "      <th>Predicted Data</th>\n",
       "      <td>894</td>\n",
       "      <td>778</td>\n",
       "      <td>913</td>\n",
       "      <td>1060</td>\n",
       "      <td>1127</td>\n",
       "      <td>1361</td>\n",
       "      <td>969</td>\n",
       "      <td>850</td>\n",
       "      <td>1019</td>\n",
       "      <td>1029</td>\n",
       "    </tr>\n",
       "  </tbody>\n",
       "</table>\n",
       "</div>"
      ],
      "text/plain": [
       "                airplane  automobile  bird   cat  deer   dog  frog  horse  \\\n",
       "Test Data           1000        1000  1000  1000  1000  1000  1000   1000   \n",
       "Predicted Data       894         778   913  1060  1127  1361   969    850   \n",
       "\n",
       "                ship  truck  \n",
       "Test Data       1000   1000  \n",
       "Predicted Data  1019   1029  "
      ]
     },
     "execution_count": 77,
     "metadata": {},
     "output_type": "execute_result"
    }
   ],
   "source": [
    "# total test data vs predicted data\n",
    "pd.DataFrame(data=[QCounter(y_test), QCounter(y_classes4)], index=[\"Test Data\", \"Predicted Data\"], columns=classes)"
   ]
  },
  {
   "cell_type": "code",
   "execution_count": 78,
   "id": "3b29f048",
   "metadata": {},
   "outputs": [
    {
     "data": {
      "image/png": "[encoded data removed]",
      "text/plain": [
       "<Figure size 432x288 with 1 Axes>"
      ]
     },
     "metadata": {
      "needs_background": "light"
     },
     "output_type": "display_data"
    }
   ],
   "source": [
    "# graph that shows predicted vs actual for classes 0 to 9\n",
    "fig, ax = plt.subplots()\n",
    "x = np.linspace(0, 9, 10)\n",
    "y = Qcounter(y_test)\n",
    "plt.plot(x, y, label = \"actual\")\n",
    "y = Qcounter(y_classes4)\n",
    "plt.plot(x, y, label = \"predicted\")\n",
    "# setting labels\n",
    "ax.set_ylabel('# classified')\n",
    "ax.set_xlabel('classes')\n",
    "\n",
    "#setting x tick\n",
    "plt.xticks(x, classes, rotation=45)\n",
    "\n",
    "plt.legend()\n",
    "plt.show()"
   ]
  },
  {
   "cell_type": "code",
   "execution_count": 79,
   "id": "6bcc2c11",
   "metadata": {
    "scrolled": true
   },
   "outputs": [
    {
     "name": "stdout",
     "output_type": "stream",
     "text": [
      "              precision    recall  f1-score   support\n",
      "\n",
      "           0       0.79      0.71      0.75      1000\n",
      "           1       0.90      0.70      0.79      1000\n",
      "           2       0.63      0.58      0.60      1000\n",
      "           3       0.49      0.52      0.50      1000\n",
      "           4       0.60      0.68      0.64      1000\n",
      "           5       0.51      0.69      0.58      1000\n",
      "           6       0.78      0.75      0.76      1000\n",
      "           7       0.80      0.68      0.74      1000\n",
      "           8       0.81      0.83      0.82      1000\n",
      "           9       0.78      0.80      0.79      1000\n",
      "\n",
      "    accuracy                           0.69     10000\n",
      "   macro avg       0.71      0.69      0.70     10000\n",
      "weighted avg       0.71      0.69      0.70     10000\n",
      "\n"
     ]
    }
   ],
   "source": [
    "# classification report\n",
    "print(classification_report(y_test,y_classes4))"
   ]
  },
  {
   "cell_type": "code",
   "execution_count": 80,
   "id": "9b00fb4e",
   "metadata": {
    "scrolled": false
   },
   "outputs": [
    {
     "data": {
      "text/html": [
       "<div>\n",
       "<style scoped>\n",
       "    .dataframe tbody tr th:only-of-type {\n",
       "        vertical-align: middle;\n",
       "    }\n",
       "\n",
       "    .dataframe tbody tr th {\n",
       "        vertical-align: top;\n",
       "    }\n",
       "\n",
       "    .dataframe thead th {\n",
       "        text-align: right;\n",
       "    }\n",
       "</style>\n",
       "<table border=\"1\" class=\"dataframe\">\n",
       "  <thead>\n",
       "    <tr style=\"text-align: right;\">\n",
       "      <th></th>\n",
       "      <th>Predicted airplane</th>\n",
       "      <th>Predicted automobile</th>\n",
       "      <th>Predicted bird</th>\n",
       "      <th>Predicted cat</th>\n",
       "      <th>Predicted deer</th>\n",
       "      <th>Predicted dog</th>\n",
       "      <th>Predicted frog</th>\n",
       "      <th>Predicted horse</th>\n",
       "      <th>Predicted ship</th>\n",
       "      <th>Predicted truck</th>\n",
       "    </tr>\n",
       "  </thead>\n",
       "  <tbody>\n",
       "    <tr>\n",
       "      <th>Actual airplane</th>\n",
       "      <td>709</td>\n",
       "      <td>10</td>\n",
       "      <td>59</td>\n",
       "      <td>27</td>\n",
       "      <td>34</td>\n",
       "      <td>20</td>\n",
       "      <td>15</td>\n",
       "      <td>16</td>\n",
       "      <td>66</td>\n",
       "      <td>44</td>\n",
       "    </tr>\n",
       "    <tr>\n",
       "      <th>Actual automobile</th>\n",
       "      <td>25</td>\n",
       "      <td>701</td>\n",
       "      <td>11</td>\n",
       "      <td>33</td>\n",
       "      <td>10</td>\n",
       "      <td>24</td>\n",
       "      <td>15</td>\n",
       "      <td>7</td>\n",
       "      <td>41</td>\n",
       "      <td>133</td>\n",
       "    </tr>\n",
       "    <tr>\n",
       "      <th>Actual bird</th>\n",
       "      <td>40</td>\n",
       "      <td>1</td>\n",
       "      <td>578</td>\n",
       "      <td>75</td>\n",
       "      <td>98</td>\n",
       "      <td>103</td>\n",
       "      <td>55</td>\n",
       "      <td>29</td>\n",
       "      <td>14</td>\n",
       "      <td>7</td>\n",
       "    </tr>\n",
       "    <tr>\n",
       "      <th>Actual cat</th>\n",
       "      <td>18</td>\n",
       "      <td>2</td>\n",
       "      <td>56</td>\n",
       "      <td>518</td>\n",
       "      <td>79</td>\n",
       "      <td>233</td>\n",
       "      <td>50</td>\n",
       "      <td>22</td>\n",
       "      <td>10</td>\n",
       "      <td>12</td>\n",
       "    </tr>\n",
       "    <tr>\n",
       "      <th>Actual deer</th>\n",
       "      <td>9</td>\n",
       "      <td>0</td>\n",
       "      <td>67</td>\n",
       "      <td>79</td>\n",
       "      <td>676</td>\n",
       "      <td>74</td>\n",
       "      <td>36</td>\n",
       "      <td>45</td>\n",
       "      <td>13</td>\n",
       "      <td>1</td>\n",
       "    </tr>\n",
       "    <tr>\n",
       "      <th>Actual dog</th>\n",
       "      <td>6</td>\n",
       "      <td>1</td>\n",
       "      <td>34</td>\n",
       "      <td>161</td>\n",
       "      <td>49</td>\n",
       "      <td>690</td>\n",
       "      <td>20</td>\n",
       "      <td>28</td>\n",
       "      <td>6</td>\n",
       "      <td>5</td>\n",
       "    </tr>\n",
       "    <tr>\n",
       "      <th>Actual frog</th>\n",
       "      <td>3</td>\n",
       "      <td>1</td>\n",
       "      <td>52</td>\n",
       "      <td>63</td>\n",
       "      <td>77</td>\n",
       "      <td>37</td>\n",
       "      <td>753</td>\n",
       "      <td>2</td>\n",
       "      <td>10</td>\n",
       "      <td>2</td>\n",
       "    </tr>\n",
       "    <tr>\n",
       "      <th>Actual horse</th>\n",
       "      <td>10</td>\n",
       "      <td>1</td>\n",
       "      <td>31</td>\n",
       "      <td>51</td>\n",
       "      <td>78</td>\n",
       "      <td>132</td>\n",
       "      <td>4</td>\n",
       "      <td>681</td>\n",
       "      <td>2</td>\n",
       "      <td>10</td>\n",
       "    </tr>\n",
       "    <tr>\n",
       "      <th>Actual ship</th>\n",
       "      <td>47</td>\n",
       "      <td>18</td>\n",
       "      <td>16</td>\n",
       "      <td>31</td>\n",
       "      <td>13</td>\n",
       "      <td>18</td>\n",
       "      <td>8</td>\n",
       "      <td>4</td>\n",
       "      <td>828</td>\n",
       "      <td>17</td>\n",
       "    </tr>\n",
       "    <tr>\n",
       "      <th>Actual truck</th>\n",
       "      <td>27</td>\n",
       "      <td>43</td>\n",
       "      <td>9</td>\n",
       "      <td>22</td>\n",
       "      <td>13</td>\n",
       "      <td>30</td>\n",
       "      <td>13</td>\n",
       "      <td>16</td>\n",
       "      <td>29</td>\n",
       "      <td>798</td>\n",
       "    </tr>\n",
       "  </tbody>\n",
       "</table>\n",
       "</div>"
      ],
      "text/plain": [
       "                   Predicted airplane  Predicted automobile  Predicted bird  \\\n",
       "Actual airplane                   709                    10              59   \n",
       "Actual automobile                  25                   701              11   \n",
       "Actual bird                        40                     1             578   \n",
       "Actual cat                         18                     2              56   \n",
       "Actual deer                         9                     0              67   \n",
       "Actual dog                          6                     1              34   \n",
       "Actual frog                         3                     1              52   \n",
       "Actual horse                       10                     1              31   \n",
       "Actual ship                        47                    18              16   \n",
       "Actual truck                       27                    43               9   \n",
       "\n",
       "                   Predicted cat  Predicted deer  Predicted dog  \\\n",
       "Actual airplane               27              34             20   \n",
       "Actual automobile             33              10             24   \n",
       "Actual bird                   75              98            103   \n",
       "Actual cat                   518              79            233   \n",
       "Actual deer                   79             676             74   \n",
       "Actual dog                   161              49            690   \n",
       "Actual frog                   63              77             37   \n",
       "Actual horse                  51              78            132   \n",
       "Actual ship                   31              13             18   \n",
       "Actual truck                  22              13             30   \n",
       "\n",
       "                   Predicted frog  Predicted horse  Predicted ship  \\\n",
       "Actual airplane                15               16              66   \n",
       "Actual automobile              15                7              41   \n",
       "Actual bird                    55               29              14   \n",
       "Actual cat                     50               22              10   \n",
       "Actual deer                    36               45              13   \n",
       "Actual dog                     20               28               6   \n",
       "Actual frog                   753                2              10   \n",
       "Actual horse                    4              681               2   \n",
       "Actual ship                     8                4             828   \n",
       "Actual truck                   13               16              29   \n",
       "\n",
       "                   Predicted truck  \n",
       "Actual airplane                 44  \n",
       "Actual automobile              133  \n",
       "Actual bird                      7  \n",
       "Actual cat                      12  \n",
       "Actual deer                      1  \n",
       "Actual dog                       5  \n",
       "Actual frog                      2  \n",
       "Actual horse                    10  \n",
       "Actual ship                     17  \n",
       "Actual truck                   798  "
      ]
     },
     "execution_count": 80,
     "metadata": {},
     "output_type": "execute_result"
    }
   ],
   "source": [
    "# dataframe confusion matrix\n",
    "CM_columns = []\n",
    "CM_index = []\n",
    "for i in range(len(classes)):\n",
    "    CM_columns.append('Predicted '+ classes[i])\n",
    "    CM_index.append('Actual '+ classes[i])\n",
    "\n",
    "pd.DataFrame(data=confusion_matrix(y_test, y_classes4),index=CM_index,columns=CM_columns)"
   ]
  },
  {
   "cell_type": "markdown",
   "id": "124a37c3",
   "metadata": {},
   "source": [
    "## CNN 3"
   ]
  },
  {
   "cell_type": "code",
   "execution_count": 81,
   "id": "28aeea27",
   "metadata": {
    "scrolled": false
   },
   "outputs": [
    {
     "data": {
      "text/html": [
       "<div>\n",
       "<style scoped>\n",
       "    .dataframe tbody tr th:only-of-type {\n",
       "        vertical-align: middle;\n",
       "    }\n",
       "\n",
       "    .dataframe tbody tr th {\n",
       "        vertical-align: top;\n",
       "    }\n",
       "\n",
       "    .dataframe thead th {\n",
       "        text-align: right;\n",
       "    }\n",
       "</style>\n",
       "<table border=\"1\" class=\"dataframe\">\n",
       "  <thead>\n",
       "    <tr style=\"text-align: right;\">\n",
       "      <th></th>\n",
       "      <th>airplane</th>\n",
       "      <th>automobile</th>\n",
       "      <th>bird</th>\n",
       "      <th>cat</th>\n",
       "      <th>deer</th>\n",
       "      <th>dog</th>\n",
       "      <th>frog</th>\n",
       "      <th>horse</th>\n",
       "      <th>ship</th>\n",
       "      <th>truck</th>\n",
       "    </tr>\n",
       "  </thead>\n",
       "  <tbody>\n",
       "    <tr>\n",
       "      <th>Test Data</th>\n",
       "      <td>1000</td>\n",
       "      <td>1000</td>\n",
       "      <td>1000</td>\n",
       "      <td>1000</td>\n",
       "      <td>1000</td>\n",
       "      <td>1000</td>\n",
       "      <td>1000</td>\n",
       "      <td>1000</td>\n",
       "      <td>1000</td>\n",
       "      <td>1000</td>\n",
       "    </tr>\n",
       "    <tr>\n",
       "      <th>Predicted Data</th>\n",
       "      <td>972</td>\n",
       "      <td>1058</td>\n",
       "      <td>952</td>\n",
       "      <td>1019</td>\n",
       "      <td>929</td>\n",
       "      <td>1165</td>\n",
       "      <td>1066</td>\n",
       "      <td>1001</td>\n",
       "      <td>983</td>\n",
       "      <td>855</td>\n",
       "    </tr>\n",
       "  </tbody>\n",
       "</table>\n",
       "</div>"
      ],
      "text/plain": [
       "                airplane  automobile  bird   cat  deer   dog  frog  horse  \\\n",
       "Test Data           1000        1000  1000  1000  1000  1000  1000   1000   \n",
       "Predicted Data       972        1058   952  1019   929  1165  1066   1001   \n",
       "\n",
       "                ship  truck  \n",
       "Test Data       1000   1000  \n",
       "Predicted Data   983    855  "
      ]
     },
     "execution_count": 81,
     "metadata": {},
     "output_type": "execute_result"
    }
   ],
   "source": [
    "# total test data vs predicted data\n",
    "pd.DataFrame(data=[QCounter(y_test), QCounter(y_classes5)], index=[\"Test Data\", \"Predicted Data\"], columns=classes)"
   ]
  },
  {
   "cell_type": "code",
   "execution_count": 82,
   "id": "415b49f9",
   "metadata": {},
   "outputs": [
    {
     "data": {
      "image/png": "[encoded data removed]",
      "text/plain": [
       "<Figure size 432x288 with 1 Axes>"
      ]
     },
     "metadata": {
      "needs_background": "light"
     },
     "output_type": "display_data"
    }
   ],
   "source": [
    "# graph that shows predicted vs actual for classes 0 to 9\n",
    "fig, ax = plt.subplots()\n",
    "x = np.linspace(0, 9, 10)\n",
    "y = Qcounter(y_test)\n",
    "plt.plot(x, y, label = \"actual\")\n",
    "y = Qcounter(y_classes5)\n",
    "plt.plot(x, y, label = \"predicted\")\n",
    "# setting labels\n",
    "ax.set_ylabel('# classified')\n",
    "ax.set_xlabel('classes')\n",
    "\n",
    "#setting x tick\n",
    "plt.xticks(x, classes, rotation=45)\n",
    "\n",
    "plt.legend()\n",
    "plt.show()"
   ]
  },
  {
   "cell_type": "code",
   "execution_count": 83,
   "id": "a85cfbbb",
   "metadata": {
    "scrolled": false
   },
   "outputs": [
    {
     "name": "stdout",
     "output_type": "stream",
     "text": [
      "              precision    recall  f1-score   support\n",
      "\n",
      "           0       0.78      0.67      0.72      1000\n",
      "           1       0.89      0.70      0.78      1000\n",
      "           2       0.66      0.45      0.54      1000\n",
      "           3       0.42      0.59      0.49      1000\n",
      "           4       0.50      0.78      0.61      1000\n",
      "           5       0.60      0.52      0.56      1000\n",
      "           6       0.82      0.66      0.73      1000\n",
      "           7       0.70      0.77      0.73      1000\n",
      "           8       0.84      0.74      0.78      1000\n",
      "           9       0.76      0.78      0.77      1000\n",
      "\n",
      "    accuracy                           0.67     10000\n",
      "   macro avg       0.70      0.67      0.67     10000\n",
      "weighted avg       0.70      0.67      0.67     10000\n",
      "\n"
     ]
    }
   ],
   "source": [
    "# classification report\n",
    "print(classification_report(y_test,y_classes3))"
   ]
  },
  {
   "cell_type": "code",
   "execution_count": 84,
   "id": "343ae84d",
   "metadata": {
    "scrolled": true
   },
   "outputs": [
    {
     "data": {
      "text/html": [
       "<div>\n",
       "<style scoped>\n",
       "    .dataframe tbody tr th:only-of-type {\n",
       "        vertical-align: middle;\n",
       "    }\n",
       "\n",
       "    .dataframe tbody tr th {\n",
       "        vertical-align: top;\n",
       "    }\n",
       "\n",
       "    .dataframe thead th {\n",
       "        text-align: right;\n",
       "    }\n",
       "</style>\n",
       "<table border=\"1\" class=\"dataframe\">\n",
       "  <thead>\n",
       "    <tr style=\"text-align: right;\">\n",
       "      <th></th>\n",
       "      <th>Predicted airplane</th>\n",
       "      <th>Predicted automobile</th>\n",
       "      <th>Predicted bird</th>\n",
       "      <th>Predicted cat</th>\n",
       "      <th>Predicted deer</th>\n",
       "      <th>Predicted dog</th>\n",
       "      <th>Predicted frog</th>\n",
       "      <th>Predicted horse</th>\n",
       "      <th>Predicted ship</th>\n",
       "      <th>Predicted truck</th>\n",
       "    </tr>\n",
       "  </thead>\n",
       "  <tbody>\n",
       "    <tr>\n",
       "      <th>Actual airplane</th>\n",
       "      <td>701</td>\n",
       "      <td>25</td>\n",
       "      <td>66</td>\n",
       "      <td>27</td>\n",
       "      <td>23</td>\n",
       "      <td>16</td>\n",
       "      <td>8</td>\n",
       "      <td>18</td>\n",
       "      <td>81</td>\n",
       "      <td>35</td>\n",
       "    </tr>\n",
       "    <tr>\n",
       "      <th>Actual automobile</th>\n",
       "      <td>24</td>\n",
       "      <td>808</td>\n",
       "      <td>18</td>\n",
       "      <td>14</td>\n",
       "      <td>3</td>\n",
       "      <td>12</td>\n",
       "      <td>8</td>\n",
       "      <td>15</td>\n",
       "      <td>30</td>\n",
       "      <td>68</td>\n",
       "    </tr>\n",
       "    <tr>\n",
       "      <th>Actual bird</th>\n",
       "      <td>59</td>\n",
       "      <td>6</td>\n",
       "      <td>555</td>\n",
       "      <td>80</td>\n",
       "      <td>72</td>\n",
       "      <td>90</td>\n",
       "      <td>78</td>\n",
       "      <td>39</td>\n",
       "      <td>14</td>\n",
       "      <td>7</td>\n",
       "    </tr>\n",
       "    <tr>\n",
       "      <th>Actual cat</th>\n",
       "      <td>26</td>\n",
       "      <td>12</td>\n",
       "      <td>51</td>\n",
       "      <td>479</td>\n",
       "      <td>70</td>\n",
       "      <td>219</td>\n",
       "      <td>67</td>\n",
       "      <td>53</td>\n",
       "      <td>9</td>\n",
       "      <td>14</td>\n",
       "    </tr>\n",
       "    <tr>\n",
       "      <th>Actual deer</th>\n",
       "      <td>16</td>\n",
       "      <td>6</td>\n",
       "      <td>102</td>\n",
       "      <td>75</td>\n",
       "      <td>587</td>\n",
       "      <td>49</td>\n",
       "      <td>80</td>\n",
       "      <td>73</td>\n",
       "      <td>9</td>\n",
       "      <td>3</td>\n",
       "    </tr>\n",
       "    <tr>\n",
       "      <th>Actual dog</th>\n",
       "      <td>7</td>\n",
       "      <td>5</td>\n",
       "      <td>54</td>\n",
       "      <td>168</td>\n",
       "      <td>46</td>\n",
       "      <td>627</td>\n",
       "      <td>22</td>\n",
       "      <td>62</td>\n",
       "      <td>3</td>\n",
       "      <td>6</td>\n",
       "    </tr>\n",
       "    <tr>\n",
       "      <th>Actual frog</th>\n",
       "      <td>9</td>\n",
       "      <td>6</td>\n",
       "      <td>42</td>\n",
       "      <td>86</td>\n",
       "      <td>25</td>\n",
       "      <td>31</td>\n",
       "      <td>775</td>\n",
       "      <td>9</td>\n",
       "      <td>13</td>\n",
       "      <td>4</td>\n",
       "    </tr>\n",
       "    <tr>\n",
       "      <th>Actual horse</th>\n",
       "      <td>18</td>\n",
       "      <td>7</td>\n",
       "      <td>33</td>\n",
       "      <td>46</td>\n",
       "      <td>83</td>\n",
       "      <td>93</td>\n",
       "      <td>12</td>\n",
       "      <td>697</td>\n",
       "      <td>4</td>\n",
       "      <td>7</td>\n",
       "    </tr>\n",
       "    <tr>\n",
       "      <th>Actual ship</th>\n",
       "      <td>66</td>\n",
       "      <td>44</td>\n",
       "      <td>16</td>\n",
       "      <td>22</td>\n",
       "      <td>9</td>\n",
       "      <td>11</td>\n",
       "      <td>6</td>\n",
       "      <td>13</td>\n",
       "      <td>793</td>\n",
       "      <td>20</td>\n",
       "    </tr>\n",
       "    <tr>\n",
       "      <th>Actual truck</th>\n",
       "      <td>46</td>\n",
       "      <td>139</td>\n",
       "      <td>15</td>\n",
       "      <td>22</td>\n",
       "      <td>11</td>\n",
       "      <td>17</td>\n",
       "      <td>10</td>\n",
       "      <td>22</td>\n",
       "      <td>27</td>\n",
       "      <td>691</td>\n",
       "    </tr>\n",
       "  </tbody>\n",
       "</table>\n",
       "</div>"
      ],
      "text/plain": [
       "                   Predicted airplane  Predicted automobile  Predicted bird  \\\n",
       "Actual airplane                   701                    25              66   \n",
       "Actual automobile                  24                   808              18   \n",
       "Actual bird                        59                     6             555   \n",
       "Actual cat                         26                    12              51   \n",
       "Actual deer                        16                     6             102   \n",
       "Actual dog                          7                     5              54   \n",
       "Actual frog                         9                     6              42   \n",
       "Actual horse                       18                     7              33   \n",
       "Actual ship                        66                    44              16   \n",
       "Actual truck                       46                   139              15   \n",
       "\n",
       "                   Predicted cat  Predicted deer  Predicted dog  \\\n",
       "Actual airplane               27              23             16   \n",
       "Actual automobile             14               3             12   \n",
       "Actual bird                   80              72             90   \n",
       "Actual cat                   479              70            219   \n",
       "Actual deer                   75             587             49   \n",
       "Actual dog                   168              46            627   \n",
       "Actual frog                   86              25             31   \n",
       "Actual horse                  46              83             93   \n",
       "Actual ship                   22               9             11   \n",
       "Actual truck                  22              11             17   \n",
       "\n",
       "                   Predicted frog  Predicted horse  Predicted ship  \\\n",
       "Actual airplane                 8               18              81   \n",
       "Actual automobile               8               15              30   \n",
       "Actual bird                    78               39              14   \n",
       "Actual cat                     67               53               9   \n",
       "Actual deer                    80               73               9   \n",
       "Actual dog                     22               62               3   \n",
       "Actual frog                   775                9              13   \n",
       "Actual horse                   12              697               4   \n",
       "Actual ship                     6               13             793   \n",
       "Actual truck                   10               22              27   \n",
       "\n",
       "                   Predicted truck  \n",
       "Actual airplane                 35  \n",
       "Actual automobile               68  \n",
       "Actual bird                      7  \n",
       "Actual cat                      14  \n",
       "Actual deer                      3  \n",
       "Actual dog                       6  \n",
       "Actual frog                      4  \n",
       "Actual horse                     7  \n",
       "Actual ship                     20  \n",
       "Actual truck                   691  "
      ]
     },
     "execution_count": 84,
     "metadata": {},
     "output_type": "execute_result"
    }
   ],
   "source": [
    "# dataframe confusion matrix\n",
    "CM_columns = []\n",
    "CM_index = []\n",
    "for i in range(len(classes)):\n",
    "    CM_columns.append('Predicted '+ classes[i])\n",
    "    CM_index.append('Actual '+ classes[i])\n",
    "\n",
    "pd.DataFrame(data=confusion_matrix(y_test, y_classes5),index=CM_index,columns=CM_columns)"
   ]
  }
 ],
 "metadata": {
  "kernelspec": {
   "display_name": "AIenv",
   "language": "python",
   "name": "aienv"
  },
  "language_info": {
   "codemirror_mode": {
    "name": "ipython",
    "version": 3
   },
   "file_extension": ".py",
   "mimetype": "text/x-python",
   "name": "python",
   "nbconvert_exporter": "python",
   "pygments_lexer": "ipython3",
   "version": "3.6.13"
  }
 },
 "nbformat": 4,
 "nbformat_minor": 5
}
